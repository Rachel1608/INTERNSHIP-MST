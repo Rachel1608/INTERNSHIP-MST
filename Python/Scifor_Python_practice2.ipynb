{
  "nbformat": 4,
  "nbformat_minor": 0,
  "metadata": {
    "colab": {
      "provenance": []
    },
    "kernelspec": {
      "name": "python3",
      "display_name": "Python 3"
    },
    "language_info": {
      "name": "python"
    }
  },
  "cells": [
    {
      "cell_type": "code",
      "execution_count": 1,
      "metadata": {
        "id": "oWGR_jMXnzW-"
      },
      "outputs": [],
      "source": [
        "import numpy as np\n",
        "import pandas as pd"
      ]
    },
    {
      "cell_type": "code",
      "source": [
        "#1) Create a series S1 which holds the values in list format\n",
        "S1 = pd.Series([1,2,\"g\",\"r\",\"e\",10])\n",
        "S1"
      ],
      "metadata": {
        "colab": {
          "base_uri": "https://localhost:8080/"
        },
        "id": "eIpAcr6-oxDn",
        "outputId": "2e33bc2c-fb83-4313-85f9-4facf28d9f65"
      },
      "execution_count": 2,
      "outputs": [
        {
          "output_type": "execute_result",
          "data": {
            "text/plain": [
              "0     1\n",
              "1     2\n",
              "2     g\n",
              "3     r\n",
              "4     e\n",
              "5    10\n",
              "dtype: object"
            ]
          },
          "metadata": {},
          "execution_count": 2
        }
      ]
    },
    {
      "cell_type": "code",
      "source": [
        "#2) Create a series object which stores initial budget value of 30k per day for each quarter of the year\n",
        "S2 = pd.Series(30000, index= [\"Quart 1\",\"Quart 2\",\"Quart 3\",\"Quart 4\"])\n",
        "S2"
      ],
      "metadata": {
        "colab": {
          "base_uri": "https://localhost:8080/"
        },
        "id": "U7NSDQ1kpFP0",
        "outputId": "caad47a5-ab88-45e8-8e12-155fda6a687f"
      },
      "execution_count": 3,
      "outputs": [
        {
          "output_type": "execute_result",
          "data": {
            "text/plain": [
              "Quart 1    30000\n",
              "Quart 2    30000\n",
              "Quart 3    30000\n",
              "Quart 4    30000\n",
              "dtype: int64"
            ]
          },
          "metadata": {},
          "execution_count": 3
        }
      ]
    },
    {
      "cell_type": "code",
      "source": [
        "#3)Create a series object where using the ndarray which has 10 elements in range of 0-70.\n",
        "arr = np.random.randint(0,70, size=10)\n",
        "S3 = pd.Series(arr)\n",
        "S3"
      ],
      "metadata": {
        "colab": {
          "base_uri": "https://localhost:8080/"
        },
        "id": "NXQpDV5jqQV4",
        "outputId": "dfb0ac51-d30c-43e5-b001-f1ae64d0b2aa"
      },
      "execution_count": 4,
      "outputs": [
        {
          "output_type": "execute_result",
          "data": {
            "text/plain": [
              "0    41\n",
              "1    60\n",
              "2    58\n",
              "3    28\n",
              "4    26\n",
              "5     6\n",
              "6    14\n",
              "7    32\n",
              "8     0\n",
              "9    60\n",
              "dtype: int64"
            ]
          },
          "metadata": {},
          "execution_count": 4
        }
      ]
    },
    {
      "cell_type": "code",
      "source": [
        "#4)Create a dictionary which stores the total Hindi Marks of the students in 4 section\n",
        "dict = {\"A\": 75, \"B\": 69, \"C\": 80, \"D\": 95}\n",
        "S4 = pd.Series(dict)\n",
        "S4"
      ],
      "metadata": {
        "colab": {
          "base_uri": "https://localhost:8080/"
        },
        "id": "tsWn4CuotvWi",
        "outputId": "36f7a7f4-a2c2-44f0-a921-17be2ca32377"
      },
      "execution_count": 5,
      "outputs": [
        {
          "output_type": "execute_result",
          "data": {
            "text/plain": [
              "A    75\n",
              "B    69\n",
              "C    80\n",
              "D    95\n",
              "dtype: int64"
            ]
          },
          "metadata": {},
          "execution_count": 5
        }
      ]
    },
    {
      "cell_type": "code",
      "source": [
        "#5) Create a series of object which stores 200 questions which held every 2 year from time period 2002-2023\n",
        "years = np.arange(2002,2023,2)\n",
        "S5= pd.Series(200, index = years)\n",
        "S5"
      ],
      "metadata": {
        "colab": {
          "base_uri": "https://localhost:8080/"
        },
        "id": "UiRGmVOcvAQz",
        "outputId": "eb9d0f33-ac1a-41ae-967a-3ed668f66ff9"
      },
      "execution_count": 6,
      "outputs": [
        {
          "output_type": "execute_result",
          "data": {
            "text/plain": [
              "2002    200\n",
              "2004    200\n",
              "2006    200\n",
              "2008    200\n",
              "2010    200\n",
              "2012    200\n",
              "2014    200\n",
              "2016    200\n",
              "2018    200\n",
              "2020    200\n",
              "2022    200\n",
              "dtype: int64"
            ]
          },
          "metadata": {},
          "execution_count": 6
        }
      ]
    }
  ]
}