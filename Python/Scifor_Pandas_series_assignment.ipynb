{
  "nbformat": 4,
  "nbformat_minor": 0,
  "metadata": {
    "colab": {
      "provenance": []
    },
    "kernelspec": {
      "name": "python3",
      "display_name": "Python 3"
    },
    "language_info": {
      "name": "python"
    }
  },
  "cells": [
    {
      "cell_type": "code",
      "execution_count": 1,
      "metadata": {
        "id": "Mxg1njL5k5Jb"
      },
      "outputs": [],
      "source": [
        "import pandas as pd"
      ]
    },
    {
      "cell_type": "code",
      "source": [
        "#Create a series object which stores the total number of candidates in the 5 sections of an MNC company also gives the name of section. Write a code to modify the value of 2nd section to any value of your choice and the section number 4th & 5th needs to be modified.\n",
        "S1 = pd.Series(100, index=[\"Web_Developer\",\"AI_Engineer\",\"Software_Tester\",\"SQL Developer\",\"Manfacturer\",\"Helper\" ])\n",
        "S1"
      ],
      "metadata": {
        "colab": {
          "base_uri": "https://localhost:8080/"
        },
        "id": "d5nUf9oIlVvy",
        "outputId": "a2966d10-1391-494c-c5f3-d4dab9c1b68d"
      },
      "execution_count": 2,
      "outputs": [
        {
          "output_type": "execute_result",
          "data": {
            "text/plain": [
              "Web_Developer      100\n",
              "AI_Engineer        100\n",
              "Software_Tester    100\n",
              "SQL Developer      100\n",
              "Manfacturer        100\n",
              "Helper             100\n",
              "dtype: int64"
            ]
          },
          "metadata": {},
          "execution_count": 2
        }
      ]
    },
    {
      "cell_type": "code",
      "source": [
        "S1[2]=150\n",
        "S1[4]=200\n",
        "S1[5]=250\n",
        "S1"
      ],
      "metadata": {
        "colab": {
          "base_uri": "https://localhost:8080/"
        },
        "id": "XcShqq9Dnu4h",
        "outputId": "2ae30e2d-0631-4993-880a-e1bbe0c61caa"
      },
      "execution_count": 3,
      "outputs": [
        {
          "output_type": "execute_result",
          "data": {
            "text/plain": [
              "Web_Developer      100\n",
              "AI_Engineer        100\n",
              "Software_Tester    150\n",
              "SQL Developer      100\n",
              "Manfacturer        200\n",
              "Helper             250\n",
              "dtype: int64"
            ]
          },
          "metadata": {},
          "execution_count": 3
        }
      ]
    },
    {
      "cell_type": "code",
      "source": [
        "#Consider the two series objects as A1(class 11) & A2(12) which storing the total number of students in 3 streams Science, commerce and humanities. Write a code to find the total number of students of both the series objects stream vise.\n",
        "A1= pd.Series([60,70,50], index=[\"Science\",\"Commerce\",\"Humanities\"])\n",
        "A2= pd.Series([75,80,60], index=[\"Science\",\"Commerce\",\"Humanities\"])\n",
        "print(\"11th Std\")\n",
        "print(A1)\n",
        "print(\"\")\n",
        "print(\"12th Std\")\n",
        "print(A2)"
      ],
      "metadata": {
        "colab": {
          "base_uri": "https://localhost:8080/"
        },
        "id": "GYIEGgWUws4I",
        "outputId": "22bb4bd8-6dc0-447b-9e78-3dd9c26a52dc"
      },
      "execution_count": 5,
      "outputs": [
        {
          "output_type": "stream",
          "name": "stdout",
          "text": [
            "11th Std\n",
            "Science       60\n",
            "Commerce      70\n",
            "Humanities    50\n",
            "dtype: int64\n",
            "\n",
            "12th Std\n",
            "Science       75\n",
            "Commerce      80\n",
            "Humanities    60\n",
            "dtype: int64\n"
          ]
        }
      ]
    },
    {
      "cell_type": "code",
      "source": [
        "A3 = A1+A2\n",
        "print(\"Total number of Students:\")\n",
        "print(A3)"
      ],
      "metadata": {
        "colab": {
          "base_uri": "https://localhost:8080/"
        },
        "id": "6KO4rocYn95s",
        "outputId": "55bf2998-a077-464b-d959-62724ef457a7"
      },
      "execution_count": 6,
      "outputs": [
        {
          "output_type": "stream",
          "name": "stdout",
          "text": [
            "Total number of Students:\n",
            "Science       135\n",
            "Commerce      150\n",
            "Humanities    110\n",
            "dtype: int64\n"
          ]
        }
      ]
    },
    {
      "cell_type": "code",
      "source": [
        "#Create the object 1 as population storing the details of populations in 4 different metro cities of India and object 2 is average income stores the total average income of the population in the 4 metro cities. Calcualte income per capita for each of these metro cities.\n",
        "Population = pd.Series([12000000,15000000,17000000,7000000,6000000], index=[\"Delhi\",\"Bangalore\",\"Mumbai\",\"Hyderabad\",\"Ahemadabad\"])\n",
        "Income = pd.Series([600000,830000,700000,650000,750000], index=[\"Delhi\",\"Bangalore\",\"Mumbai\",\"Hyderabad\",\"Ahemadabad\"])\n",
        "print(Population)\n",
        "print(\"\")\n",
        "print(Income)"
      ],
      "metadata": {
        "colab": {
          "base_uri": "https://localhost:8080/"
        },
        "id": "9eJf7XjNiZvB",
        "outputId": "b22ecf2c-9848-4e99-cc21-1c4e444691e7"
      },
      "execution_count": 9,
      "outputs": [
        {
          "output_type": "stream",
          "name": "stdout",
          "text": [
            "Delhi         12000000\n",
            "Bangalore     15000000\n",
            "Mumbai        17000000\n",
            "Hyderabad      7000000\n",
            "Ahemadabad     6000000\n",
            "dtype: int64\n",
            "\n",
            "Delhi         600000\n",
            "Bangalore     830000\n",
            "Mumbai        700000\n",
            "Hyderabad     650000\n",
            "Ahemadabad    750000\n",
            "dtype: int64\n"
          ]
        }
      ]
    },
    {
      "cell_type": "code",
      "source": [
        "Income_Per_capita = Income/Population\n",
        "print(Income_Per_capita)"
      ],
      "metadata": {
        "colab": {
          "base_uri": "https://localhost:8080/"
        },
        "id": "XD2BmGyFjNsg",
        "outputId": "511601ae-890f-4134-c63c-2aaecb71ec69"
      },
      "execution_count": 10,
      "outputs": [
        {
          "output_type": "stream",
          "name": "stdout",
          "text": [
            "Delhi         0.050000\n",
            "Bangalore     0.055333\n",
            "Mumbai        0.041176\n",
            "Hyderabad     0.092857\n",
            "Ahemadabad    0.125000\n",
            "dtype: float64\n"
          ]
        }
      ]
    },
    {
      "cell_type": "code",
      "source": [
        "#Create a series object S2 which stores the charity contribution made by 4 sections A,B,C,D. Write a code to display the sections who has displayed the contribution more than 8000\n",
        "S2= pd.Series([7000,8500,9000,7500],index=[\"Section A\",\"Section B\",\"Section C\",\"Section D\"])\n",
        "print(S2)"
      ],
      "metadata": {
        "colab": {
          "base_uri": "https://localhost:8080/"
        },
        "id": "hVAEVAVuwshI",
        "outputId": "bcd0b8ee-b953-4bff-f0fb-90b5728f25df"
      },
      "execution_count": 11,
      "outputs": [
        {
          "output_type": "stream",
          "name": "stdout",
          "text": [
            "Section A    7000\n",
            "Section B    8500\n",
            "Section C    9000\n",
            "Section D    7500\n",
            "dtype: int64\n"
          ]
        }
      ]
    },
    {
      "cell_type": "code",
      "source": [
        "print(S2>8000)\n",
        "print(\"\")\n",
        "print(f\"Sections with More than 8000 charity contribution\")\n",
        "print(S2[S2>8000])"
      ],
      "metadata": {
        "colab": {
          "base_uri": "https://localhost:8080/"
        },
        "id": "B_kLCQP5x6ZO",
        "outputId": "7164b64d-1a93-4bf8-9afb-572ed0950848"
      },
      "execution_count": 12,
      "outputs": [
        {
          "output_type": "stream",
          "name": "stdout",
          "text": [
            "Section A    False\n",
            "Section B     True\n",
            "Section C     True\n",
            "Section D    False\n",
            "dtype: bool\n",
            "\n",
            "Sections with More than 8000 charity contribution\n",
            "Section B    8500\n",
            "Section C    9000\n",
            "dtype: int64\n"
          ]
        }
      ]
    }
  ]
}