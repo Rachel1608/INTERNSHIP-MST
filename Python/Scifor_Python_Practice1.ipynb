{
  "nbformat": 4,
  "nbformat_minor": 0,
  "metadata": {
    "colab": {
      "provenance": [],
      "gpuType": "T4"
    },
    "kernelspec": {
      "name": "python3",
      "display_name": "Python 3"
    },
    "language_info": {
      "name": "python"
    },
    "accelerator": "GPU"
  },
  "cells": [
    {
      "cell_type": "code",
      "execution_count": null,
      "metadata": {
        "id": "npZ1aF0If9SI",
        "colab": {
          "base_uri": "https://localhost:8080/"
        },
        "outputId": "3210acc8-6a9d-4e1b-d88d-3f23a6669f0b"
      },
      "outputs": [
        {
          "output_type": "stream",
          "name": "stdout",
          "text": [
            "No. of elements on the list:10\n",
            "list1: 1 2 3 4 5 6 7 8 9 10\n",
            "list2: 11 12 13 14 15 16 17 18 19 20\n",
            "The first list is: [1, 2, 3, 4, 5, 6, 7, 8, 9, 10]\n",
            "The second list is: [11, 12, 13, 14, 15, 16, 17, 18, 19, 20]\n",
            "Index1:3\n",
            "Value1:30\n",
            "Index2:5\n",
            "Value2:25\n",
            "[1, 2, 3, 30, 4, 5, 6, 7, 8, 9, 10]\n",
            "[11, 12, 13, 14, 15, 25, 16, 17, 18, 19, 20]\n",
            "Modify value1:6\n",
            "Modify Index1:2\n",
            "Modify value2:24\n",
            "Modify Index2:7\n",
            "[1, 2, 6, 30, 4, 5, 6, 7, 8, 9, 10]\n",
            "[11, 12, 13, 14, 15, 25, 16, 24, 18, 19, 20]\n",
            "pop index1:3\n",
            "pop index2:5\n",
            "[1, 2, 6, 4, 5, 6, 7, 8, 9, 10]\n",
            "[11, 12, 13, 14, 15, 16, 24, 18, 19, 20]\n",
            "[1, 2, 6, 4, 5, 6, 7, 8, 9, 10, 11, 12, 13, 14, 15, 16, 24, 18, 19, 20]\n",
            "[1, 2, 6, 4, 5, 6, 7, 8, 9, 10, 11, 12, 13, 14, 15, 16, 24, 18, 19, 20, 1, 2, 6, 4, 5, 6, 7, 8, 9, 10, 11, 12, 13, 14, 15, 16, 24, 18, 19, 20, 1, 2, 6, 4, 5, 6, 7, 8, 9, 10, 11, 12, 13, 14, 15, 16, 24, 18, 19, 20]\n"
          ]
        }
      ],
      "source": [
        "#Create User defined 2 lists\n",
        "n = int(input(\"No. of elements on the list:\"))\n",
        "\n",
        "elements1 = input(\"list1: \")\n",
        "elements2 = input(\"list2: \")\n",
        "\n",
        "list1 = list(map(int, elements1.split()))\n",
        "list2 = list(map(int, elements2.split()))\n",
        "\n",
        "print(\"The first list is:\", list1)\n",
        "print(\"The second list is:\", list2)\n",
        "\n",
        "#Insert\n",
        "list1.insert(int(input(\"Index1:\")),int(input(\"Value1:\")))\n",
        "list2.insert(int(input(\"Index2:\")),int(input(\"Value2:\")))\n",
        "print(list1)\n",
        "print(list2)\n",
        "\n",
        "#Modify\n",
        "list1[int(input(\"Modify Index1:\"))]= int(input(\"Modify value1:\"))\n",
        "list2[int(input(\"Modify Index2:\"))]= int(input(\"Modify value2:\"))\n",
        "print(list1)\n",
        "print(list2)\n",
        "\n",
        "#pop\n",
        "list1.pop(int(input(\"pop index1:\")))\n",
        "list2.pop(int(input(\"pop index2:\")))\n",
        "print(list1)\n",
        "print(list2)\n",
        "\n",
        "# concatenation\n",
        "list3 = list1+list2\n",
        "print(list3)\n",
        "\n",
        "#Repitation\n",
        "list4 = list3*3\n",
        "print(list4)"
      ]
    },
    {
      "cell_type": "code",
      "source": [
        "import pandas as pd\n",
        "import numpy as np\n",
        "\n",
        "s1 = pd.Series([\"e\",\"g\",\"h\"])\n",
        "s1"
      ],
      "metadata": {
        "colab": {
          "base_uri": "https://localhost:8080/"
        },
        "id": "XXvqnL0RWmOu",
        "outputId": "be8daaab-d623-4000-8fe0-1ad049367812"
      },
      "execution_count": null,
      "outputs": [
        {
          "output_type": "execute_result",
          "data": {
            "text/plain": [
              "0    e\n",
              "1    g\n",
              "2    h\n",
              "dtype: object"
            ]
          },
          "metadata": {},
          "execution_count": 1
        }
      ]
    },
    {
      "cell_type": "code",
      "source": [
        "S2 = pd.Series(30000,index = [\"Q1\",\"Q2\",\"Q3\",\"Q4\"])\n",
        "S2"
      ],
      "metadata": {
        "colab": {
          "base_uri": "https://localhost:8080/"
        },
        "id": "p0MhSsdaegYG",
        "outputId": "f9f86efa-1b5d-4db6-bb71-0b93a4d7a7f9"
      },
      "execution_count": null,
      "outputs": [
        {
          "output_type": "execute_result",
          "data": {
            "text/plain": [
              "Q1    30000\n",
              "Q2    30000\n",
              "Q3    30000\n",
              "Q4    30000\n",
              "dtype: int64"
            ]
          },
          "metadata": {},
          "execution_count": 3
        }
      ]
    },
    {
      "cell_type": "code",
      "source": [],
      "metadata": {
        "id": "GdHaeF2LfPHg"
      },
      "execution_count": null,
      "outputs": []
    }
  ]
}