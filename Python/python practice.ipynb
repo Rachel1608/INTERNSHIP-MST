{
 "cells": [
  {
   "cell_type": "code",
   "execution_count": 2,
   "id": "487b2e1c",
   "metadata": {},
   "outputs": [
    {
     "name": "stdout",
     "output_type": "stream",
     "text": [
      "Python 3.9.7\n"
     ]
    }
   ],
   "source": [
    "!python --version"
   ]
  },
  {
   "cell_type": "code",
   "execution_count": 3,
   "id": "73d37e9b",
   "metadata": {},
   "outputs": [],
   "source": [
    "import pandas as pd"
   ]
  },
  {
   "cell_type": "code",
   "execution_count": 4,
   "id": "3c9e3be5",
   "metadata": {},
   "outputs": [],
   "source": [
    "import numpy as np"
   ]
  },
  {
   "cell_type": "code",
   "execution_count": 5,
   "id": "53f56de7",
   "metadata": {},
   "outputs": [],
   "source": [
    "import matplotlib as plt"
   ]
  },
  {
   "cell_type": "code",
   "execution_count": 6,
   "id": "4f539f48",
   "metadata": {},
   "outputs": [],
   "source": [
    "import scipy"
   ]
  },
  {
   "cell_type": "code",
   "execution_count": 9,
   "id": "8547cb98",
   "metadata": {},
   "outputs": [
    {
     "name": "stdout",
     "output_type": "stream",
     "text": [
      "Welcome\n"
     ]
    }
   ],
   "source": [
    "print (\"Welcome\")"
   ]
  },
  {
   "cell_type": "code",
   "execution_count": 10,
   "id": "9e384782",
   "metadata": {},
   "outputs": [
    {
     "name": "stdout",
     "output_type": "stream",
     "text": [
      "Requirement already satisfied: pandas in f:\\anaconda3\\lib\\site-packages (1.3.4)\n",
      "Requirement already satisfied: pytz>=2017.3 in f:\\anaconda3\\lib\\site-packages (from pandas) (2021.3)\n",
      "Requirement already satisfied: python-dateutil>=2.7.3 in f:\\anaconda3\\lib\\site-packages (from pandas) (2.8.2)\n",
      "Requirement already satisfied: numpy>=1.17.3 in f:\\anaconda3\\lib\\site-packages (from pandas) (1.20.3)\n",
      "Requirement already satisfied: six>=1.5 in f:\\anaconda3\\lib\\site-packages (from python-dateutil>=2.7.3->pandas) (1.16.0)\n"
     ]
    }
   ],
   "source": [
    "!pip install pandas"
   ]
  },
  {
   "cell_type": "code",
   "execution_count": 14,
   "id": "d77ecbdc",
   "metadata": {},
   "outputs": [
    {
     "name": "stdout",
     "output_type": "stream",
     "text": [
      "123\n"
     ]
    }
   ],
   "source": [
    "print (123)"
   ]
  },
  {
   "cell_type": "code",
   "execution_count": 16,
   "id": "35ff74ef",
   "metadata": {},
   "outputs": [],
   "source": [
    "var = 'hello'"
   ]
  },
  {
   "cell_type": "code",
   "execution_count": 17,
   "id": "5b123fb3",
   "metadata": {},
   "outputs": [
    {
     "name": "stdout",
     "output_type": "stream",
     "text": [
      "<class 'type'>\n"
     ]
    }
   ],
   "source": [
    "print (type(str))"
   ]
  },
  {
   "cell_type": "code",
   "execution_count": 18,
   "id": "322a64cb",
   "metadata": {},
   "outputs": [
    {
     "name": "stdout",
     "output_type": "stream",
     "text": [
      "15\n",
      "5\n",
      "50\n",
      "2.0\n",
      "0\n"
     ]
    }
   ],
   "source": [
    "var_num1=10\n",
    "var_num2=5\n",
    "print (var_num1+var_num2)\n",
    "print (var_num1-var_num2)\n",
    "print (var_num1*var_num2)\n",
    "print (var_num1/var_num2)\n",
    "print (var_num1%var_num2)"
   ]
  },
  {
   "cell_type": "code",
   "execution_count": 20,
   "id": "53be8f30",
   "metadata": {},
   "outputs": [
    {
     "name": "stdout",
     "output_type": "stream",
     "text": [
      "10hello\n"
     ]
    }
   ],
   "source": [
    "print ('10'+'hello')"
   ]
  },
  {
   "cell_type": "code",
   "execution_count": 23,
   "id": "cc9e1245",
   "metadata": {},
   "outputs": [],
   "source": [
    "student_det = ['apple',50,100,'red']"
   ]
  },
  {
   "cell_type": "code",
   "execution_count": 24,
   "id": "7bfe04f3",
   "metadata": {},
   "outputs": [
    {
     "ename": "AttributeError",
     "evalue": "'list' object attribute 'append' is read-only",
     "output_type": "error",
     "traceback": [
      "\u001b[1;31m---------------------------------------------------------------------------\u001b[0m",
      "\u001b[1;31mAttributeError\u001b[0m                            Traceback (most recent call last)",
      "\u001b[1;32m~\\AppData\\Local\\Temp/ipykernel_219512/3176215975.py\u001b[0m in \u001b[0;36m<module>\u001b[1;34m\u001b[0m\n\u001b[1;32m----> 1\u001b[1;33m \u001b[0mstudent_det\u001b[0m\u001b[1;33m.\u001b[0m\u001b[0mappend\u001b[0m\u001b[1;33m=\u001b[0m\u001b[1;36m5\u001b[0m\u001b[1;33m\u001b[0m\u001b[1;33m\u001b[0m\u001b[0m\n\u001b[0m",
      "\u001b[1;31mAttributeError\u001b[0m: 'list' object attribute 'append' is read-only"
     ]
    }
   ],
   "source": [
    "student_det.append=5 "
   ]
  },
  {
   "cell_type": "code",
   "execution_count": 25,
   "id": "c068ceab",
   "metadata": {},
   "outputs": [],
   "source": [
    "student_det.append(30)"
   ]
  },
  {
   "cell_type": "code",
   "execution_count": 27,
   "id": "93010d7f",
   "metadata": {},
   "outputs": [
    {
     "name": "stdout",
     "output_type": "stream",
     "text": [
      "['apple', 50, 100, 'red', 30]\n"
     ]
    }
   ],
   "source": [
    "print (student_det)"
   ]
  },
  {
   "cell_type": "code",
   "execution_count": 29,
   "id": "fddb6567",
   "metadata": {},
   "outputs": [
    {
     "data": {
      "text/plain": [
       "list"
      ]
     },
     "execution_count": 29,
     "metadata": {},
     "output_type": "execute_result"
    }
   ],
   "source": [
    "type (student_det)"
   ]
  },
  {
   "cell_type": "code",
   "execution_count": 30,
   "id": "965e3218",
   "metadata": {},
   "outputs": [
    {
     "ename": "TypeError",
     "evalue": "'builtin_function_or_method' object is not subscriptable",
     "output_type": "error",
     "traceback": [
      "\u001b[1;31m---------------------------------------------------------------------------\u001b[0m",
      "\u001b[1;31mTypeError\u001b[0m                                 Traceback (most recent call last)",
      "\u001b[1;32m~\\AppData\\Local\\Temp/ipykernel_219512/806794026.py\u001b[0m in \u001b[0;36m<module>\u001b[1;34m\u001b[0m\n\u001b[1;32m----> 1\u001b[1;33m \u001b[0mnp\u001b[0m\u001b[1;33m.\u001b[0m\u001b[0marray\u001b[0m\u001b[1;33m[\u001b[0m\u001b[0mstudent_det\u001b[0m\u001b[1;33m]\u001b[0m\u001b[1;33m\u001b[0m\u001b[1;33m\u001b[0m\u001b[0m\n\u001b[0m",
      "\u001b[1;31mTypeError\u001b[0m: 'builtin_function_or_method' object is not subscriptable"
     ]
    }
   ],
   "source": [
    "np.array[student_det]"
   ]
  },
  {
   "cell_type": "code",
   "execution_count": 31,
   "id": "01e79a53",
   "metadata": {},
   "outputs": [
    {
     "data": {
      "text/plain": [
       "array(['apple', '50', '100', 'red', '30'], dtype='<U11')"
      ]
     },
     "execution_count": 31,
     "metadata": {},
     "output_type": "execute_result"
    }
   ],
   "source": [
    "np.array(student_det)"
   ]
  },
  {
   "cell_type": "code",
   "execution_count": 32,
   "id": "8aa23a88",
   "metadata": {},
   "outputs": [
    {
     "data": {
      "text/plain": [
       "array([0., 0., 0., 0., 0., 0., 0., 0., 0., 0.])"
      ]
     },
     "execution_count": 32,
     "metadata": {},
     "output_type": "execute_result"
    }
   ],
   "source": [
    "np.zeros (10)"
   ]
  },
  {
   "cell_type": "code",
   "execution_count": 33,
   "id": "5ac0c52a",
   "metadata": {},
   "outputs": [
    {
     "data": {
      "text/plain": [
       "array([0.24206653, 0.65710834, 0.23651435, 0.13315745, 0.98712534,\n",
       "       0.52573714, 0.45491893, 0.30398212, 0.4149833 , 0.03366367])"
      ]
     },
     "execution_count": 33,
     "metadata": {},
     "output_type": "execute_result"
    }
   ],
   "source": [
    "np.random.rand (10)"
   ]
  },
  {
   "cell_type": "code",
   "execution_count": 34,
   "id": "643a8f70",
   "metadata": {},
   "outputs": [
    {
     "data": {
      "text/plain": [
       "array([[0.1839966 , 0.42537889],\n",
       "       [0.83009107, 0.4036477 ],\n",
       "       [0.48368618, 0.83579447]])"
      ]
     },
     "execution_count": 34,
     "metadata": {},
     "output_type": "execute_result"
    }
   ],
   "source": [
    "np.random.rand (3,2)"
   ]
  },
  {
   "cell_type": "code",
   "execution_count": 36,
   "id": "10abe575",
   "metadata": {},
   "outputs": [
    {
     "data": {
      "text/plain": [
       "10"
      ]
     },
     "execution_count": 36,
     "metadata": {},
     "output_type": "execute_result"
    }
   ],
   "source": [
    "import random\n",
    "random.randrange(2,20)"
   ]
  },
  {
   "cell_type": "code",
   "execution_count": 38,
   "id": "02e4e5f4",
   "metadata": {},
   "outputs": [
    {
     "data": {
      "text/plain": [
       "0    11\n",
       "1    12\n",
       "2    13\n",
       "3    14\n",
       "4    15\n",
       "dtype: object"
      ]
     },
     "execution_count": 38,
     "metadata": {},
     "output_type": "execute_result"
    }
   ],
   "source": [
    "list1 = [\"11\",\"12\",\"13\",\"14\",\"15\"]\n",
    "pd.Series(data=list1)"
   ]
  },
  {
   "cell_type": "code",
   "execution_count": 39,
   "id": "294c5b9e",
   "metadata": {},
   "outputs": [],
   "source": [
    "dict_example={\"key1\":10,\"key2\":20,\"key3\":30}"
   ]
  },
  {
   "cell_type": "code",
   "execution_count": 40,
   "id": "5a1da754",
   "metadata": {},
   "outputs": [
    {
     "data": {
      "text/plain": [
       "key1    10\n",
       "key2    20\n",
       "key3    30\n",
       "dtype: int64"
      ]
     },
     "execution_count": 40,
     "metadata": {},
     "output_type": "execute_result"
    }
   ],
   "source": [
    "pd.Series(dict_example)"
   ]
  },
  {
   "cell_type": "code",
   "execution_count": 41,
   "id": "019ff6bc",
   "metadata": {},
   "outputs": [],
   "source": [
    "from numpy.random import randn\n",
    "\n",
    "\n",
    "dataframe = pd.DataFrame(randn(10,5),index='A B C D E F G H I J'.split(),columns='Score1 Score2 Score3 Score4 Score5'.split())\n"
   ]
  },
  {
   "cell_type": "code",
   "execution_count": 42,
   "id": "5615df36",
   "metadata": {},
   "outputs": [
    {
     "data": {
      "text/html": [
       "<div>\n",
       "<style scoped>\n",
       "    .dataframe tbody tr th:only-of-type {\n",
       "        vertical-align: middle;\n",
       "    }\n",
       "\n",
       "    .dataframe tbody tr th {\n",
       "        vertical-align: top;\n",
       "    }\n",
       "\n",
       "    .dataframe thead th {\n",
       "        text-align: right;\n",
       "    }\n",
       "</style>\n",
       "<table border=\"1\" class=\"dataframe\">\n",
       "  <thead>\n",
       "    <tr style=\"text-align: right;\">\n",
       "      <th></th>\n",
       "      <th>Score1</th>\n",
       "      <th>Score2</th>\n",
       "      <th>Score3</th>\n",
       "      <th>Score4</th>\n",
       "      <th>Score5</th>\n",
       "    </tr>\n",
       "  </thead>\n",
       "  <tbody>\n",
       "    <tr>\n",
       "      <th>A</th>\n",
       "      <td>0.056135</td>\n",
       "      <td>0.022904</td>\n",
       "      <td>0.483599</td>\n",
       "      <td>1.875540</td>\n",
       "      <td>0.423806</td>\n",
       "    </tr>\n",
       "    <tr>\n",
       "      <th>B</th>\n",
       "      <td>-0.316503</td>\n",
       "      <td>1.903282</td>\n",
       "      <td>1.525263</td>\n",
       "      <td>-0.709837</td>\n",
       "      <td>-0.200153</td>\n",
       "    </tr>\n",
       "    <tr>\n",
       "      <th>C</th>\n",
       "      <td>0.072551</td>\n",
       "      <td>-0.608032</td>\n",
       "      <td>-1.044472</td>\n",
       "      <td>0.284365</td>\n",
       "      <td>0.991558</td>\n",
       "    </tr>\n",
       "    <tr>\n",
       "      <th>D</th>\n",
       "      <td>-1.070018</td>\n",
       "      <td>-1.557157</td>\n",
       "      <td>0.729927</td>\n",
       "      <td>-0.774471</td>\n",
       "      <td>0.793946</td>\n",
       "    </tr>\n",
       "    <tr>\n",
       "      <th>E</th>\n",
       "      <td>0.647902</td>\n",
       "      <td>-0.993425</td>\n",
       "      <td>0.502556</td>\n",
       "      <td>-0.071254</td>\n",
       "      <td>1.366939</td>\n",
       "    </tr>\n",
       "    <tr>\n",
       "      <th>F</th>\n",
       "      <td>0.386304</td>\n",
       "      <td>-0.839859</td>\n",
       "      <td>-0.045697</td>\n",
       "      <td>0.125501</td>\n",
       "      <td>0.084163</td>\n",
       "    </tr>\n",
       "    <tr>\n",
       "      <th>G</th>\n",
       "      <td>0.300937</td>\n",
       "      <td>0.272298</td>\n",
       "      <td>-0.485286</td>\n",
       "      <td>-1.104470</td>\n",
       "      <td>0.273988</td>\n",
       "    </tr>\n",
       "    <tr>\n",
       "      <th>H</th>\n",
       "      <td>-1.377399</td>\n",
       "      <td>1.211028</td>\n",
       "      <td>0.110843</td>\n",
       "      <td>0.274209</td>\n",
       "      <td>-1.130444</td>\n",
       "    </tr>\n",
       "    <tr>\n",
       "      <th>I</th>\n",
       "      <td>-0.226462</td>\n",
       "      <td>0.579090</td>\n",
       "      <td>1.229918</td>\n",
       "      <td>-0.158263</td>\n",
       "      <td>0.683269</td>\n",
       "    </tr>\n",
       "    <tr>\n",
       "      <th>J</th>\n",
       "      <td>0.997155</td>\n",
       "      <td>-2.266555</td>\n",
       "      <td>0.495547</td>\n",
       "      <td>0.516153</td>\n",
       "      <td>-0.756625</td>\n",
       "    </tr>\n",
       "  </tbody>\n",
       "</table>\n",
       "</div>"
      ],
      "text/plain": [
       "     Score1    Score2    Score3    Score4    Score5\n",
       "A  0.056135  0.022904  0.483599  1.875540  0.423806\n",
       "B -0.316503  1.903282  1.525263 -0.709837 -0.200153\n",
       "C  0.072551 -0.608032 -1.044472  0.284365  0.991558\n",
       "D -1.070018 -1.557157  0.729927 -0.774471  0.793946\n",
       "E  0.647902 -0.993425  0.502556 -0.071254  1.366939\n",
       "F  0.386304 -0.839859 -0.045697  0.125501  0.084163\n",
       "G  0.300937  0.272298 -0.485286 -1.104470  0.273988\n",
       "H -1.377399  1.211028  0.110843  0.274209 -1.130444\n",
       "I -0.226462  0.579090  1.229918 -0.158263  0.683269\n",
       "J  0.997155 -2.266555  0.495547  0.516153 -0.756625"
      ]
     },
     "execution_count": 42,
     "metadata": {},
     "output_type": "execute_result"
    }
   ],
   "source": [
    "dataframe"
   ]
  },
  {
   "cell_type": "code",
   "execution_count": 43,
   "id": "343eed7b",
   "metadata": {},
   "outputs": [
    {
     "data": {
      "text/html": [
       "<div>\n",
       "<style scoped>\n",
       "    .dataframe tbody tr th:only-of-type {\n",
       "        vertical-align: middle;\n",
       "    }\n",
       "\n",
       "    .dataframe tbody tr th {\n",
       "        vertical-align: top;\n",
       "    }\n",
       "\n",
       "    .dataframe thead th {\n",
       "        text-align: right;\n",
       "    }\n",
       "</style>\n",
       "<table border=\"1\" class=\"dataframe\">\n",
       "  <thead>\n",
       "    <tr style=\"text-align: right;\">\n",
       "      <th></th>\n",
       "      <th>Score1</th>\n",
       "      <th>Score1</th>\n",
       "    </tr>\n",
       "  </thead>\n",
       "  <tbody>\n",
       "    <tr>\n",
       "      <th>A</th>\n",
       "      <td>0.056135</td>\n",
       "      <td>0.056135</td>\n",
       "    </tr>\n",
       "    <tr>\n",
       "      <th>B</th>\n",
       "      <td>-0.316503</td>\n",
       "      <td>-0.316503</td>\n",
       "    </tr>\n",
       "    <tr>\n",
       "      <th>C</th>\n",
       "      <td>0.072551</td>\n",
       "      <td>0.072551</td>\n",
       "    </tr>\n",
       "    <tr>\n",
       "      <th>D</th>\n",
       "      <td>-1.070018</td>\n",
       "      <td>-1.070018</td>\n",
       "    </tr>\n",
       "    <tr>\n",
       "      <th>E</th>\n",
       "      <td>0.647902</td>\n",
       "      <td>0.647902</td>\n",
       "    </tr>\n",
       "    <tr>\n",
       "      <th>F</th>\n",
       "      <td>0.386304</td>\n",
       "      <td>0.386304</td>\n",
       "    </tr>\n",
       "    <tr>\n",
       "      <th>G</th>\n",
       "      <td>0.300937</td>\n",
       "      <td>0.300937</td>\n",
       "    </tr>\n",
       "    <tr>\n",
       "      <th>H</th>\n",
       "      <td>-1.377399</td>\n",
       "      <td>-1.377399</td>\n",
       "    </tr>\n",
       "    <tr>\n",
       "      <th>I</th>\n",
       "      <td>-0.226462</td>\n",
       "      <td>-0.226462</td>\n",
       "    </tr>\n",
       "    <tr>\n",
       "      <th>J</th>\n",
       "      <td>0.997155</td>\n",
       "      <td>0.997155</td>\n",
       "    </tr>\n",
       "  </tbody>\n",
       "</table>\n",
       "</div>"
      ],
      "text/plain": [
       "     Score1    Score1\n",
       "A  0.056135  0.056135\n",
       "B -0.316503 -0.316503\n",
       "C  0.072551  0.072551\n",
       "D -1.070018 -1.070018\n",
       "E  0.647902  0.647902\n",
       "F  0.386304  0.386304\n",
       "G  0.300937  0.300937\n",
       "H -1.377399 -1.377399\n",
       "I -0.226462 -0.226462\n",
       "J  0.997155  0.997155"
      ]
     },
     "execution_count": 43,
     "metadata": {},
     "output_type": "execute_result"
    }
   ],
   "source": [
    "dataframe[['Score1','Score1']]"
   ]
  },
  {
   "cell_type": "code",
   "execution_count": 44,
   "id": "2c3ab107",
   "metadata": {},
   "outputs": [
    {
     "data": {
      "text/html": [
       "<div>\n",
       "<style scoped>\n",
       "    .dataframe tbody tr th:only-of-type {\n",
       "        vertical-align: middle;\n",
       "    }\n",
       "\n",
       "    .dataframe tbody tr th {\n",
       "        vertical-align: top;\n",
       "    }\n",
       "\n",
       "    .dataframe thead th {\n",
       "        text-align: right;\n",
       "    }\n",
       "</style>\n",
       "<table border=\"1\" class=\"dataframe\">\n",
       "  <thead>\n",
       "    <tr style=\"text-align: right;\">\n",
       "      <th></th>\n",
       "      <th>Score1</th>\n",
       "      <th>Score2</th>\n",
       "      <th>Score3</th>\n",
       "      <th>Score4</th>\n",
       "      <th>Score5</th>\n",
       "    </tr>\n",
       "  </thead>\n",
       "  <tbody>\n",
       "    <tr>\n",
       "      <th>A</th>\n",
       "      <td>0.056135</td>\n",
       "      <td>0.022904</td>\n",
       "      <td>0.483599</td>\n",
       "      <td>1.875540</td>\n",
       "      <td>0.423806</td>\n",
       "    </tr>\n",
       "    <tr>\n",
       "      <th>B</th>\n",
       "      <td>-0.316503</td>\n",
       "      <td>1.903282</td>\n",
       "      <td>1.525263</td>\n",
       "      <td>-0.709837</td>\n",
       "      <td>-0.200153</td>\n",
       "    </tr>\n",
       "    <tr>\n",
       "      <th>C</th>\n",
       "      <td>0.072551</td>\n",
       "      <td>-0.608032</td>\n",
       "      <td>-1.044472</td>\n",
       "      <td>0.284365</td>\n",
       "      <td>0.991558</td>\n",
       "    </tr>\n",
       "  </tbody>\n",
       "</table>\n",
       "</div>"
      ],
      "text/plain": [
       "     Score1    Score2    Score3    Score4    Score5\n",
       "A  0.056135  0.022904  0.483599  1.875540  0.423806\n",
       "B -0.316503  1.903282  1.525263 -0.709837 -0.200153\n",
       "C  0.072551 -0.608032 -1.044472  0.284365  0.991558"
      ]
     },
     "execution_count": 44,
     "metadata": {},
     "output_type": "execute_result"
    }
   ],
   "source": [
    "dataframe[0:3]"
   ]
  },
  {
   "cell_type": "code",
   "execution_count": 45,
   "id": "87342530",
   "metadata": {},
   "outputs": [
    {
     "data": {
      "text/plain": [
       "A    0.056135\n",
       "B   -0.316503\n",
       "C    0.072551\n",
       "D   -1.070018\n",
       "E    0.647902\n",
       "F    0.386304\n",
       "G    0.300937\n",
       "H   -1.377399\n",
       "I   -0.226462\n",
       "J    0.997155\n",
       "Name: Score1, dtype: float64"
      ]
     },
     "execution_count": 45,
     "metadata": {},
     "output_type": "execute_result"
    }
   ],
   "source": [
    "dataframe.loc[:,\"Score1\"]"
   ]
  },
  {
   "cell_type": "code",
   "execution_count": 46,
   "id": "e7b4d042",
   "metadata": {},
   "outputs": [],
   "source": [
    "import matplotlib.pyplot as plt\n",
    "%matplotlib inline\n",
    "\n",
    "# import some data to play with\n",
    "from sklearn import datasets\n",
    "\n",
    "iris = datasets.load_iris()\n"
   ]
  },
  {
   "cell_type": "code",
   "execution_count": 47,
   "id": "f60d65d5",
   "metadata": {},
   "outputs": [],
   "source": [
    "x = iris.data[:,:2]\n",
    "y = iris.target"
   ]
  },
  {
   "cell_type": "code",
   "execution_count": 48,
   "id": "23754731",
   "metadata": {},
   "outputs": [
    {
     "data": {
      "image/png": "[encoded data removed]",
      "text/plain": [
       "<Figure size 432x288 with 1 Axes>"
      ]
     },
     "metadata": {
      "needs_background": "light"
     },
     "output_type": "display_data"
    }
   ],
   "source": [
    "plt.hist(y)\n",
    "plt.show()"
   ]
  },
  {
   "cell_type": "code",
   "execution_count": null,
   "id": "ebb16b08",
   "metadata": {},
   "outputs": [],
   "source": []
  }
 ],
 "metadata": {
  "kernelspec": {
   "display_name": "Python 3 (ipykernel)",
   "language": "python",
   "name": "python3"
  },
  "language_info": {
   "codemirror_mode": {
    "name": "ipython",
    "version": 3
   },
   "file_extension": ".py",
   "mimetype": "text/x-python",
   "name": "python",
   "nbconvert_exporter": "python",
   "pygments_lexer": "ipython3",
   "version": "3.11.7"
  }
 },
 "nbformat": 4,
 "nbformat_minor": 5
}
