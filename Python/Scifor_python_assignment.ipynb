{
  "nbformat": 4,
  "nbformat_minor": 0,
  "metadata": {
    "colab": {
      "provenance": [],
      "gpuType": "T4"
    },
    "kernelspec": {
      "name": "python3",
      "display_name": "Python 3"
    },
    "language_info": {
      "name": "python"
    },
    "accelerator": "GPU"
  },
  "cells": [
    {
      "cell_type": "markdown",
      "source": [
        "#**SCIFOR ASSIGNMENT- 1**\n",
        "1) Write a Python function that takes a list and returns a new list with distinct elements from\n",
        "the first list.\n",
        "\n"
      ],
      "metadata": {
        "id": "1Zm9AijODez1"
      }
    },
    {
      "cell_type": "code",
      "source": [
        "#Importing the Libraries\n",
        "import numpy as np\n",
        "import pandas as pd"
      ],
      "metadata": {
        "id": "K0Q5mOAOEOGh"
      },
      "execution_count": null,
      "outputs": []
    },
    {
      "cell_type": "code",
      "source": [
        "#printing the unique list with user defined list\n",
        "def unique_elements():\n",
        "    n = int(input(\"No. of elements:\"))\n",
        "    elements = input(\"List values:\")\n",
        "    lst = list(map(int,elements.split()))\n",
        "    print(\"List:\",lst)\n",
        "    unique_lst = np.unique(lst)\n",
        "    return unique_lst.tolist()\n",
        "\n",
        "print(\"Unique_List:\",unique_elements())"
      ],
      "metadata": {
        "colab": {
          "base_uri": "https://localhost:8080/"
        },
        "id": "T5_RFJLEEeLX",
        "outputId": "ff054167-8726-49c9-abd0-c87eafce90d0"
      },
      "execution_count": null,
      "outputs": [
        {
          "output_type": "stream",
          "name": "stdout",
          "text": [
            "No. of elements:10\n",
            "List values:1 2 3 4 2 6 4 8 9 10\n",
            "List: [1, 2, 3, 4, 2, 6, 4, 8, 9, 10]\n",
            "Unique_List: [1, 2, 3, 4, 6, 8, 9, 10]\n"
          ]
        }
      ]
    },
    {
      "cell_type": "markdown",
      "source": [
        "2) Write a Python program to access a function inside a function."
      ],
      "metadata": {
        "id": "PC82g_3UKnci"
      }
    },
    {
      "cell_type": "code",
      "source": [
        "def outer_fun():\n",
        "  def inside_fun():\n",
        "      a = 2\n",
        "      b = 3\n",
        "      print(\"Addition inside a function:\",a+b)\n",
        "  return inside_fun\n",
        "\n",
        "inner = outer_fun()\n",
        "inner()"
      ],
      "metadata": {
        "colab": {
          "base_uri": "https://localhost:8080/"
        },
        "id": "4nbDRy6FKkkH",
        "outputId": "56dce18f-5d10-4758-82fc-14cbca00929c"
      },
      "execution_count": null,
      "outputs": [
        {
          "output_type": "stream",
          "name": "stdout",
          "text": [
            "Addition inside a function: 5\n"
          ]
        }
      ]
    },
    {
      "cell_type": "markdown",
      "source": [
        "3) Use a loop to display elements from a given list present at odd index positions."
      ],
      "metadata": {
        "id": "dmZAxw2RNg81"
      }
    },
    {
      "cell_type": "code",
      "source": [
        "my_list = []\n",
        "for i in range(int(input(\"Starting range:\")), int(input(\"Ending range:\"))):\n",
        "    my_list.append(i)\n",
        "\n",
        "odd_index_elements = []\n",
        "for i in range(len(my_list)):\n",
        "    if i % 2 != 0:\n",
        "        odd_index_elements.append(my_list[i])\n",
        "\n",
        "for j in range(len(odd_index_elements)):\n",
        "    print(odd_index_elements[j])"
      ],
      "metadata": {
        "colab": {
          "base_uri": "https://localhost:8080/"
        },
        "id": "dlFVfd8QGtAX",
        "outputId": "6d885c38-cb21-4aeb-dcf3-14e72b4a600b"
      },
      "execution_count": null,
      "outputs": [
        {
          "output_type": "stream",
          "name": "stdout",
          "text": [
            "Starting range:0\n",
            "Ending range:10\n",
            "1\n",
            "3\n",
            "5\n",
            "7\n",
            "9\n"
          ]
        }
      ]
    },
    {
      "cell_type": "markdown",
      "source": [
        "4) Write a program to print the following star pattern using the for loop"
      ],
      "metadata": {
        "id": "AlOIIKwQco-r"
      }
    },
    {
      "cell_type": "code",
      "source": [
        "for i in range(1, 6):\n",
        "  print('*'*i)\n",
        "for i in range(4,-1,-1):\n",
        "  print('*'*i)"
      ],
      "metadata": {
        "colab": {
          "base_uri": "https://localhost:8080/"
        },
        "id": "8ynr0P4bZjFz",
        "outputId": "191b0903-d62e-4e6c-b87a-bfea8cb55155"
      },
      "execution_count": null,
      "outputs": [
        {
          "output_type": "stream",
          "name": "stdout",
          "text": [
            "*\n",
            "**\n",
            "***\n",
            "****\n",
            "*****\n",
            "****\n",
            "***\n",
            "**\n",
            "*\n",
            "\n"
          ]
        }
      ]
    },
    {
      "cell_type": "markdown",
      "source": [
        "5) Write a program to accept a number from a user and calculate the sum of all numbers\n",
        "from 1 to a given number."
      ],
      "metadata": {
        "id": "WhbDjJXLc4jL"
      }
    },
    {
      "cell_type": "code",
      "source": [
        "num = int(input(\" User: \"))\n",
        "sum = 0\n",
        "for i in range(1, num + 1):\n",
        "    sum += i\n",
        "print(\"The sum of all numbers from 1 to\", num, \"is:\", sum)"
      ],
      "metadata": {
        "colab": {
          "base_uri": "https://localhost:8080/"
        },
        "id": "fdv11mQSczDS",
        "outputId": "a52e28c7-95d7-4148-89d5-5c0776697180"
      },
      "execution_count": null,
      "outputs": [
        {
          "output_type": "stream",
          "name": "stdout",
          "text": [
            " User: 8\n",
            "The sum of all numbers from 1 to 8 is: 36\n"
          ]
        }
      ]
    },
    {
      "cell_type": "markdown",
      "source": [
        "7) Write a program to increase those values in the given Pandas Series by 50 which are\n",
        "less than 70."
      ],
      "metadata": {
        "id": "bVLNy3syf8Ce"
      }
    },
    {
      "cell_type": "code",
      "source": [
        "S1 = pd.Series([10,20,50,70,80,90,100])\n",
        "S1[S1<70]= S1+50\n",
        "print(S1)"
      ],
      "metadata": {
        "colab": {
          "base_uri": "https://localhost:8080/"
        },
        "id": "Nts_djwFfgKn",
        "outputId": "a3a9f299-8087-44a1-fb1a-68c1120ef9b6"
      },
      "execution_count": null,
      "outputs": [
        {
          "output_type": "stream",
          "name": "stdout",
          "text": [
            "0     60\n",
            "1     70\n",
            "2    100\n",
            "3     70\n",
            "4     80\n",
            "5     90\n",
            "6    100\n",
            "dtype: int64\n"
          ]
        }
      ]
    }
  ]
}